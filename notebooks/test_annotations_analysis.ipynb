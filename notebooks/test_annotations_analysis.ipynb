{
 "cells": [
  {
   "cell_type": "code",
   "execution_count": 2,
   "id": "95992277",
   "metadata": {},
   "outputs": [],
   "source": [
    "import numpy as np\n",
    "import pandas as pd\n",
    "import matplotlib.pyplot as plt"
   ]
  },
  {
   "cell_type": "markdown",
   "id": "e112527c",
   "metadata": {},
   "source": [
    "# Load annotation file"
   ]
  },
  {
   "cell_type": "code",
   "execution_count": 3,
   "id": "59265c6b",
   "metadata": {},
   "outputs": [
    {
     "name": "stdout",
     "output_type": "stream",
     "text": [
      "<class 'pandas.core.frame.DataFrame'>\n",
      "RangeIndex: 1693 entries, 0 to 1692\n",
      "Data columns (total 13 columns):\n",
      " #   Column          Non-Null Count  Dtype  \n",
      "---  ------          --------------  -----  \n",
      " 0   id              1693 non-null   object \n",
      " 1   subject         1693 non-null   object \n",
      " 2   scene           1693 non-null   object \n",
      " 3   quality         1691 non-null   float64\n",
      " 4   relevance       1685 non-null   float64\n",
      " 5   verified        1693 non-null   object \n",
      " 6   script          1693 non-null   object \n",
      " 7   objects         1692 non-null   object \n",
      " 8   descriptions    2 non-null      object \n",
      " 9   actions         1691 non-null   object \n",
      " 10  length          1693 non-null   float64\n",
      " 11  egocentric      1693 non-null   object \n",
      " 12  charades_video  1289 non-null   object \n",
      "dtypes: float64(3), object(10)\n",
      "memory usage: 172.1+ KB\n"
     ]
    }
   ],
   "source": [
    "df = pd.read_csv(\"E:\\MSc Data Science\\Third term\\Research Project\\general\\charade\\CharadesEgo\\CharadesEgo_v1_test.csv\")\n",
    "df.info()"
   ]
  },
  {
   "cell_type": "code",
   "execution_count": 4,
   "id": "f96c1f9f",
   "metadata": {},
   "outputs": [
    {
     "data": {
      "application/vnd.microsoft.datawrangler.viewer.v0+json": {
       "columns": [
        {
         "name": "actions",
         "rawType": "object",
         "type": "string"
        },
        {
         "name": "count",
         "rawType": "int64",
         "type": "integer"
        }
       ],
       "ref": "5be76801-5652-4d5f-882e-939ea998c32d",
       "rows": [
        [
         "c015 0.00 32.12;c107 0.00 32.12;c106 0.00 32.12;c109 0.00 32.12;c110 0.00 32.12;c016 0.00 32.12",
         "2"
        ],
        [
         "c097 0.00 17.58;c005 0.00 17.58;c105 0.00 17.58",
         "2"
        ],
        [
         "c104 2.40 8.80;c021 8.30 15.70;c151 10.50 17.10;c135 13.80 25.79;c020 6.90 23.40;c063 5.50 10.50;c061 6.30 23.10;c133 0.00 4.10;c156 7.30 14.30;c088 6.90 17.10;c146 6.00 17.00;c134 9.80 16.60",
         "1"
        ],
        [
         "c110 24.20 30.75;c059 12.00 30.75;c109 29.70 30.75;c008 0.00 30.75;c152 31.20 30.75;c097 10.30 30.75;c141 8.70 30.75;c118 16.80 23.70;c108 12.80 25.00;c008 0.00 8.20;c152 27.50 30.75;c097 0.00 11.70;c141 0.00 11.20;c151 6.80 16.30;c110 16.20 24.00;c009 29.30 30.75;c059 10.20 19.00;c109 22.00 27.50;c107 16.70 30.75;c011 12.80 30.75;c104 4.80 11.20;c118 12.50 30.75;c106 24.70 30.75",
         "1"
        ],
        [
         "c051 0.00 31.25;c046 27.90 31.25;c053 0.00 31.25;c048 0.00 31.25;c052 0.00 31.25;c151 0.50 14.50;c054 0.20 8.70;c059 1.40 13.90;c011 0.00 13.60;c154 0.00 11.00",
         "1"
        ],
        [
         "c098 0.60 23.88;c113 1.60 21.20;c112 16.80 21.80;c099 22.20 23.88;c006 16.20 22.30;c008 1.10 6.50;c141 0.90 6.70;c102 0.20 4.40;c100 0.40 4.60",
         "1"
        ],
        [
         "c109 5.60 12.80;c106 0.00 10.00;c021 12.80 21.50;c118 4.10 11.50;c119 4.80 11.90;c154 0.00 2.80;c062 10.90 19.80;c110 5.60 10.50;c022 31.00 21.71;c081 8.00 12.00;c107 0.00 12.00;c087 9.20 21.71;c012 18.70 21.71;c009 20.80 21.71",
         "1"
        ],
        [
         "c108 22.70 32.50;c142 29.20 38.60;c104 4.50 9.60;c110 9.70 17.90;c063 15.30 23.30;c063 18.60 25.60;c113 8.30 15.20;c143 15.70 24.90;c106 31.70 38.60;c107 18.60 43.10",
         "1"
        ],
        [
         "c107 0.00 11.10;c109 5.90 11.30;c147 14.60 30.42;c106 0.00 9.60;c156 0.00 10.80;c129 0.30 12.20;c110 1.50 13.60;c128 0.30 14.00",
         "1"
        ],
        [
         "c072 13.90 25.67;c076 0.00 6.90",
         "1"
        ],
        [
         "c152 0.00 18.50;c142 8.50 14.80;c143 7.20 12.10;c150 0.00 7.80;c141 7.40 21.00;c010 2.10 22.90;c002 7.00 33.20;c149 10.60 33.20;c152 12.50 33.20",
         "1"
        ],
        [
         "c110 8.40 14.30;c107 1.10 9.40;c106 8.40 15.60;c051 12.70 18.30;c120 0.80 6.40;c059 11.80 16.90;c151 11.50 19.29;c106 11.60 19.29;c110 0.80 5.70;c110 2.90 7.70;c107 8.20 19.29;c152 0.00 15.10",
         "1"
        ],
        [
         "c097 0.90 5.20;c152 0.80 4.80;c096 0.30 5.10;c008 1.10 5.80;c094 6.40 15.90;c139 4.60 14.00;c105 8.70 16.40",
         "1"
        ],
        [
         "c112 10.70 16.60;c136 18.00 30.80;c002 30.20 35.80;c082 1.50 17.70;c000 31.80 41.71;c137 18.00 32.50;c154 8.20 18.10;c113 2.20 11.40;c138 13.70 20.20;c148 31.20 41.71;c001 32.50 39.80;c127 17.20 32.70",
         "1"
        ],
        [
         "c053 2.20 7.90;c145 24.10 37.83;c029 25.60 37.80;c011 21.40 37.83;c127 2.00 7.50;c034 18.90 25.20;c032 22.40 37.83;c035 9.80 16.50;c125 0.00 7.70;c056 0.00 6.40;c059 20.60 37.83;c012 9.00 24.80;c038 9.00 24.80;c054 3.30 8.50;c033 11.90 23.10;c154 6.80 12.70;c058 1.40 7.90;c057 0.00 6.40;c027 21.80 37.83;c014 15.30 24.30;c025 36.10 37.83;c151 0.00 37.83;c056 16.50 24.30;c059 16.80 21.60;c012 17.60 25.80;c038 15.30 22.60;c054 17.20 24.30",
         "1"
        ],
        [
         "c106 30.70 32.17;c143 5.50 10.70;c110 10.30 15.90;c151 26.50 32.17;c107 10.80 32.17;c142 8.50 15.40;c108 14.50 24.40;c006 6.20 16.70;c059 25.00 32.17;c011 27.10 32.17;c118 5.20 24.10;c062 6.30 24.10",
         "1"
        ],
        [
         "c008 5.90 18.17;c097 0.00 8.60;c141 6.60 18.17;c140 5.40 18.17",
         "1"
        ],
        [
         "c154 0.00 16.50;c134 0.00 22.40;c135 4.50 14.80;c072 0.00 8.50;c106 24.10 32.90;c151 35.50 40.90;c096 5.80 20.90;c128 5.40 19.70;c017 4.30 18.80;c016 0.30 15.90;c009 0.50 18.40;c015 7.00 19.50;c146 0.00 10.00;c133 0.00 9.40;c151 25.40 40.10",
         "1"
        ],
        [
         "c070 0.00 4.00;c074 0.00 4.50;c076 0.00 4.20;c071 0.00 4.50;c008 0.00 10.70;c097 0.00 10.30;c006 0.00 7.30;c080 0.00 10.50",
         "1"
        ],
        [
         "c097 0.00 5.50;c088 7.70 13.80;c145 11.30 21.75;c152 14.10 21.20;c006 4.30 9.40;c150 0.00 6.20;c087 7.30 13.30;c086 1.00 11.00;c141 0.00 7.90;c083 7.90 15.10;c084 7.50 11.90",
         "1"
        ],
        [
         "c092 4.30 28.10;c106 4.10 20.30;c107 4.30 34.50;c097 30.20 37.60;c151 8.50 14.70;c141 37.00 45.90;c006 37.00 46.20;c008 6.10 29.10;c151 0.90 47.90;c141 1.20 24.20;c006 3.90 35.20",
         "1"
        ],
        [
         "c053 16.90 22.60;c127 16.10 22.40;c057 13.30 21.30;c054 16.50 21.80;c098 0.00 33.21;c056 14.70 22.00;c102 0.00 33.21",
         "1"
        ],
        [
         "c132 27.90 35.67;c103 2.20 9.30;c092 12.10 18.50;c060 0.30 9.10;c066 16.60 28.10;c029 19.20 27.90;c090 14.30 21.80",
         "1"
        ],
        [
         "c152 0.00 5.20;c123 0.00 5.50;c131 0.00 5.60;c106 0.00 6.40;c149 0.00 7.12;c107 0.00 7.12",
         "1"
        ],
        [
         "c102 21.90 29.75;c100 17.60 23.40;c154 27.40 29.75;c091 22.20 29.75;c000 3.40 15.00;c153 32.70 29.75;c004 4.90 15.80;c002 0.80 10.60;c009 10.70 16.40;c001 10.70 16.50;c034 0.10 11.70;c097 0.00 8.30;c036 0.00 10.60;c033 0.60 11.30;c037 0.00 14.90;c006 0.00 9.60;c150 0.00 6.70;c153 31.20 29.75;c098 19.20 29.75",
         "1"
        ],
        [
         "c091 9.00 34.00;c153 5.30 34.90;c135 0.00 44.12;c037 6.40 19.40;c038 18.50 29.80;c026 8.60 21.70;c032 20.30 31.40;c011 12.80 30.90;c033 11.70 22.50",
         "1"
        ],
        [
         "c148 0.00 13.20;c086 19.60 24.92;c084 16.00 24.70;c083 15.40 20.10;c152 20.20 24.92;c097 0.00 21.60;c001 0.00 12.70;c009 0.00 24.92",
         "1"
        ],
        [
         "c056 8.40 31.50;c151 2.10 12.20;c008 0.00 5.00;c057 2.30 11.90;c053 7.60 31.50;c154 11.20 15.40;c135 17.20 22.80;c006 8.20 19.70;c058 15.30 24.70;c097 1.30 6.60;c056 9.20 14.50;c141 0.00 6.40;c151 9.80 15.70",
         "1"
        ],
        [
         "c079 6.90 13.20;c133 0.00 6.10;c146 0.00 6.20;c154 5.00 10.00;c055 2.30 9.90;c134 5.10 9.90;c078 2.70 19.38;c113 6.30 17.50",
         "1"
        ],
        [
         "c151 0.00 26.00;c053 0.30 8.00;c055 2.60 12.40;c015 0.00 26.00;c016 6.70 24.60",
         "1"
        ],
        [
         "c153 11.00 32.70;c128 26.80 36.50;c151 4.20 10.50;c129 27.50 44.80;c051 5.80 28.80;c011 6.00 25.10;c106 36.70 42.50;c154 20.00 25.30;c049 15.40 36.80;c156 8.30 22.40;c012 10.10 42.00;c046 20.40 28.80;c059 0.00 23.70;c013 26.10 45.50;c153 10.40 18.90;c107 7.20 23.70",
         "1"
        ],
        [
         "c139 23.50 36.90;c072 0.00 13.60;c146 2.30 11.10;c154 7.70 14.40;c070 0.40 13.60;c075 2.70 17.60;c133 0.00 7.70;c070 9.20 21.10;c075 10.40 20.90;c097 19.90 24.50;c134 0.00 10.50;c104 21.30 26.10",
         "1"
        ],
        [
         "c078 13.20 24.00;c123 0.00 31.96;c076 12.30 25.50;c079 11.40 19.90;c132 19.10 31.96;c151 10.60 16.60;c106 11.90 18.40;c120 7.90 16.40;c119 10.60 16.40;c135 12.30 16.80",
         "1"
        ],
        [
         "c120 15.20 20.80;c060 0.90 17.50;c109 18.10 23.60;c092 2.00 16.10;c012 15.90 21.90;c119 17.90 23.30",
         "1"
        ],
        [
         "c058 0.00 16.75;c053 13.90 16.75;c017 7.50 13.90;c054 9.20 16.00;c058 9.20 16.75;c015 3.00 16.75;c009 8.70 16.75;c053 2.20 16.75",
         "1"
        ],
        [
         "c030 9.90 15.33;c149 7.60 13.90;c152 7.90 13.90;c154 4.50 10.70;c029 14.60 15.33;c027 9.50 14.70;c125 0.00 4.70;c026 10.20 15.33;c032 10.40 15.33",
         "1"
        ],
        [
         "c118 1.00 6.00;c102 17.50 29.70;c147 3.00 17.70;c120 5.30 12.90;c100 17.50 23.40;c034 14.90 21.70;c098 18.90 31.60;c119 10.40 17.70;c127 18.70 30.60;c033 7.20 20.00;c099 25.90 32.40;c118 8.20 16.00;c035 1.80 7.30;c037 11.40 18.70",
         "1"
        ],
        [
         "c029 1.80 19.60;c009 15.10 21.30;c025 12.40 19.10;c040 29.00 34.17;c027 0.00 6.60;c030 0.00 2.90;c032 1.60 19.10;c076 19.20 27.20;c043 28.10 34.17;c153 13.20 18.30;c081 15.10 20.80;c154 0.00 20.10;c079 19.10 25.80;c028 14.40 22.00;c026 0.00 19.10;c061 28.50 34.17;c152 0.00 9.90",
         "1"
        ],
        [
         "c072 4.00 15.67;c071 6.40 15.67;c070 11.60 15.67;c000 10.30 15.67;c053 0.00 9.40;c002 9.10 15.67;c124 3.00 12.20;c006 6.80 14.60;c125 7.50 14.50;c054 8.60 15.40;c001 3.70 12.00",
         "1"
        ],
        [
         "c082 0.00 7.90;c139 6.90 12.40;c107 0.00 3.60;c114 0.00 8.10;c113 0.00 2.60;c105 10.30 14.04;c128 0.00 7.30",
         "1"
        ],
        [
         "c097 0.00 3.30;c081 13.30 18.60;c104 5.10 9.80;c049 0.00 21.10;c112 0.00 20.50;c105 0.00 20.50;c047 0.00 12.30",
         "1"
        ],
        [
         "c078 20.60 27.00;c105 14.50 21.00;c124 21.40 26.80;c079 3.30 9.50;c076 2.90 21.50;c154 24.20 30.60;c080 6.80 14.40;c151 16.20 23.80;c152 6.30 14.70;c126 15.80 23.10;c077 17.60 24.50;c149 6.60 14.40",
         "1"
        ],
        [
         "c127 9.70 32.08;c098 10.50 32.08;c134 0.00 5.70;c104 7.50 12.80;c038 16.00 27.00;c100 10.50 15.50;c033 17.10 32.08;c146 0.00 6.20;c154 4.60 8.90;c102 10.70 19.50;c133 0.00 10.20;c037 19.50 32.08",
         "1"
        ],
        [
         "c059 0.00 4.70;c050 0.70 15.70;c146 3.90 15.80;c134 0.00 7.10;c133 4.10 8.50;c154 5.30 10.30;c080 3.40 9.00",
         "1"
        ],
        [
         "c156 0.00 5.80;c020 17.50 23.00;c061 0.00 6.40;c097 0.50 8.10;c152 3.20 10.60;c149 1.20 10.70;c020 17.60 30.62;c023 16.40 21.50;c061 0.00 30.62",
         "1"
        ],
        [
         "c103 1.90 17.08",
         "1"
        ],
        [
         "c091 0.00 6.90;c095 0.00 9.20",
         "1"
        ],
        [
         "c021 4.20 17.10;c023 0.00 17.90;c009 20.20 27.80;c023 11.40 20.70;c020 13.30 17.90;c152 16.10 23.60;c022 13.90 18.80;c107 14.50 25.60;c009 25.80 31.00;c106 17.40 32.10;c009 6.00 12.00;c021 1.70 9.70;c106 15.70 25.60",
         "1"
        ],
        [
         "c125 0.00 15.50;c097 21.80 28.20;c027 27.70 30.88;c096 0.00 12.50;c006 20.90 28.30;c093 0.00 13.30;c026 14.10 30.88;c144 0.00 17.60;c154 0.00 28.80;c032 0.00 30.88;c059 24.60 30.88;c141 0.00 30.88;c030 0.00 30.88;c094 0.00 30.88;c008 0.00 30.80",
         "1"
        ],
        [
         "c076 0.00 13.60;c080 9.00 14.70;c078 0.00 11.60;c077 9.30 15.10;c126 8.60 16.00",
         "1"
        ]
       ],
       "shape": {
        "columns": 1,
        "rows": 1689
       }
      },
      "text/plain": [
       "actions\n",
       "c015 0.00 32.12;c107 0.00 32.12;c106 0.00 32.12;c109 0.00 32.12;c110 0.00 32.12;c016 0.00 32.12                                                                                                                                                                                                                                                                                                   2\n",
       "c097 0.00 17.58;c005 0.00 17.58;c105 0.00 17.58                                                                                                                                                                                                                                                                                                                                                   2\n",
       "c104 2.40 8.80;c021 8.30 15.70;c151 10.50 17.10;c135 13.80 25.79;c020 6.90 23.40;c063 5.50 10.50;c061 6.30 23.10;c133 0.00 4.10;c156 7.30 14.30;c088 6.90 17.10;c146 6.00 17.00;c134 9.80 16.60                                                                                                                                                                                                   1\n",
       "c110 24.20 30.75;c059 12.00 30.75;c109 29.70 30.75;c008 0.00 30.75;c152 31.20 30.75;c097 10.30 30.75;c141 8.70 30.75;c118 16.80 23.70;c108 12.80 25.00;c008 0.00 8.20;c152 27.50 30.75;c097 0.00 11.70;c141 0.00 11.20;c151 6.80 16.30;c110 16.20 24.00;c009 29.30 30.75;c059 10.20 19.00;c109 22.00 27.50;c107 16.70 30.75;c011 12.80 30.75;c104 4.80 11.20;c118 12.50 30.75;c106 24.70 30.75    1\n",
       "c051 0.00 31.25;c046 27.90 31.25;c053 0.00 31.25;c048 0.00 31.25;c052 0.00 31.25;c151 0.50 14.50;c054 0.20 8.70;c059 1.40 13.90;c011 0.00 13.60;c154 0.00 11.00                                                                                                                                                                                                                                   1\n",
       "                                                                                                                                                                                                                                                                                                                                                                                                 ..\n",
       "c060 0.50 11.25;c154 0.00 7.60;c112 2.30 10.90;c026 0.00 11.25;c114 0.00 11.25;c040 0.00 11.25;c115 0.00 11.25;c097 0.00 11.25                                                                                                                                                                                                                                                                    1\n",
       "c030 23.40 30.00;c002 7.60 12.80;c155 0.00 7.90;c003 4.90 10.70;c026 24.30 30.00;c139 10.20 17.20;c096 12.40 26.50;c038 8.20 17.60;c000 4.20 9.70;c001 4.80 13.00                                                                                                                                                                                                                                 1\n",
       "c038 14.80 19.20;c013 7.90 18.30;c037 8.20 18.10;c034 14.90 19.80;c151 15.40 20.10;c059 7.50 24.70;c154 0.00 24.70;c011 0.00 23.60;c036 0.00 22.90;c035 0.00 24.40;c152 1.00 7.80;c092 1.60 12.60;c059 7.30 13.10;c033 9.00 19.50                                                                                                                                                                 1\n",
       "c149 3.80 13.20;c000 0.00 13.10;c141 10.60 16.80;c152 3.30 12.10;c155 2.20 7.60;c113 9.70 16.20;c006 14.10 17.50;c097 10.80 17.50;c008 11.10 17.50;c155 1.20 13.20;c001 6.40 12.60                                                                                                                                                                                                                1\n",
       "c112 27.10 34.30;c107 12.40 18.40;c072 30.50 37.29;c073 27.30 34.10;c113 25.70 31.90;c109 23.20 28.70;c033 31.30 37.10;c129 12.20 17.70;c128 7.70 12.50;c152 30.50 36.90;c110 10.30 15.30;c111 14.10 18.60;c108 9.20 19.00;c106 6.40 15.30;c110 3.00 21.40;c035 29.60 36.60;c111 17.20 24.80                                                                                                      1\n",
       "Name: count, Length: 1689, dtype: int64"
      ]
     },
     "execution_count": 4,
     "metadata": {},
     "output_type": "execute_result"
    }
   ],
   "source": [
    "df['actions'].value_counts().sort_values(ascending=False)"
   ]
  },
  {
   "cell_type": "markdown",
   "id": "9d1b0363",
   "metadata": {},
   "source": [
    "We should expect each value of `actions` are in two rows (one for egocentric view and one for exocentric view) "
   ]
  },
  {
   "cell_type": "markdown",
   "id": "92708a60",
   "metadata": {},
   "source": [
    "# Transform the annotation file"
   ]
  },
  {
   "cell_type": "code",
   "execution_count": 5,
   "id": "7a5a3577",
   "metadata": {},
   "outputs": [],
   "source": [
    "rows = []\n",
    "for _, r in df.iterrows():\n",
    "  vid = r['id']\n",
    "  actions = r['actions']\n",
    "  if (isinstance(actions, str)):\n",
    "    for trip in actions.split(';'):\n",
    "      cls, st, en = trip.split()\n",
    "      rows.append({'video': vid, 'class': cls, 'start': float(st), 'end': float(en)})\n",
    "\n",
    "all_actions = pd.DataFrame(rows)"
   ]
  },
  {
   "cell_type": "code",
   "execution_count": 6,
   "id": "54dfb5d5",
   "metadata": {},
   "outputs": [
    {
     "name": "stdout",
     "output_type": "stream",
     "text": [
      "<class 'pandas.core.frame.DataFrame'>\n",
      "RangeIndex: 18726 entries, 0 to 18725\n",
      "Data columns (total 4 columns):\n",
      " #   Column  Non-Null Count  Dtype  \n",
      "---  ------  --------------  -----  \n",
      " 0   video   18726 non-null  object \n",
      " 1   class   18726 non-null  object \n",
      " 2   start   18726 non-null  float64\n",
      " 3   end     18726 non-null  float64\n",
      "dtypes: float64(2), object(2)\n",
      "memory usage: 585.3+ KB\n"
     ]
    }
   ],
   "source": [
    "all_actions.info()"
   ]
  },
  {
   "cell_type": "code",
   "execution_count": 7,
   "id": "61767c29",
   "metadata": {},
   "outputs": [
    {
     "name": "stdout",
     "output_type": "stream",
     "text": [
      "<class 'pandas.core.frame.DataFrame'>\n",
      "RangeIndex: 18726 entries, 0 to 18725\n",
      "Data columns (total 4 columns):\n",
      " #   Column  Non-Null Count  Dtype  \n",
      "---  ------  --------------  -----  \n",
      " 0   video   18726 non-null  object \n",
      " 1   class   18726 non-null  object \n",
      " 2   start   18726 non-null  float64\n",
      " 3   end     18726 non-null  float64\n",
      "dtypes: float64(2), object(2)\n",
      "memory usage: 585.3+ KB\n"
     ]
    }
   ],
   "source": [
    "all_actions.info()"
   ]
  },
  {
   "cell_type": "code",
   "execution_count": 8,
   "id": "52f8c642",
   "metadata": {},
   "outputs": [
    {
     "data": {
      "application/vnd.microsoft.datawrangler.viewer.v0+json": {
       "columns": [
        {
         "name": "index",
         "rawType": "int64",
         "type": "integer"
        },
        {
         "name": "video",
         "rawType": "object",
         "type": "string"
        },
        {
         "name": "class",
         "rawType": "object",
         "type": "string"
        },
        {
         "name": "start",
         "rawType": "float64",
         "type": "float"
        },
        {
         "name": "end",
         "rawType": "float64",
         "type": "float"
        }
       ],
       "ref": "457c9705-9242-457d-a2b0-7ffc0669fa2c",
       "rows": [
        [
         "0",
         "W1XD0EGO",
         "c115",
         "0.0",
         "21.7"
        ],
        [
         "1",
         "W1XD0EGO",
         "c116",
         "13.1",
         "22.5"
        ],
        [
         "2",
         "W1XD0EGO",
         "c123",
         "0.0",
         "22.5"
        ],
        [
         "3",
         "W1XD0EGO",
         "c139",
         "21.4",
         "22.5"
        ],
        [
         "4",
         "W1XD0EGO",
         "c077",
         "11.6",
         "22.5"
        ]
       ],
       "shape": {
        "columns": 4,
        "rows": 5
       }
      },
      "text/html": [
       "<div>\n",
       "<style scoped>\n",
       "    .dataframe tbody tr th:only-of-type {\n",
       "        vertical-align: middle;\n",
       "    }\n",
       "\n",
       "    .dataframe tbody tr th {\n",
       "        vertical-align: top;\n",
       "    }\n",
       "\n",
       "    .dataframe thead th {\n",
       "        text-align: right;\n",
       "    }\n",
       "</style>\n",
       "<table border=\"1\" class=\"dataframe\">\n",
       "  <thead>\n",
       "    <tr style=\"text-align: right;\">\n",
       "      <th></th>\n",
       "      <th>video</th>\n",
       "      <th>class</th>\n",
       "      <th>start</th>\n",
       "      <th>end</th>\n",
       "    </tr>\n",
       "  </thead>\n",
       "  <tbody>\n",
       "    <tr>\n",
       "      <th>0</th>\n",
       "      <td>W1XD0EGO</td>\n",
       "      <td>c115</td>\n",
       "      <td>0.0</td>\n",
       "      <td>21.7</td>\n",
       "    </tr>\n",
       "    <tr>\n",
       "      <th>1</th>\n",
       "      <td>W1XD0EGO</td>\n",
       "      <td>c116</td>\n",
       "      <td>13.1</td>\n",
       "      <td>22.5</td>\n",
       "    </tr>\n",
       "    <tr>\n",
       "      <th>2</th>\n",
       "      <td>W1XD0EGO</td>\n",
       "      <td>c123</td>\n",
       "      <td>0.0</td>\n",
       "      <td>22.5</td>\n",
       "    </tr>\n",
       "    <tr>\n",
       "      <th>3</th>\n",
       "      <td>W1XD0EGO</td>\n",
       "      <td>c139</td>\n",
       "      <td>21.4</td>\n",
       "      <td>22.5</td>\n",
       "    </tr>\n",
       "    <tr>\n",
       "      <th>4</th>\n",
       "      <td>W1XD0EGO</td>\n",
       "      <td>c077</td>\n",
       "      <td>11.6</td>\n",
       "      <td>22.5</td>\n",
       "    </tr>\n",
       "  </tbody>\n",
       "</table>\n",
       "</div>"
      ],
      "text/plain": [
       "      video class  start   end\n",
       "0  W1XD0EGO  c115    0.0  21.7\n",
       "1  W1XD0EGO  c116   13.1  22.5\n",
       "2  W1XD0EGO  c123    0.0  22.5\n",
       "3  W1XD0EGO  c139   21.4  22.5\n",
       "4  W1XD0EGO  c077   11.6  22.5"
      ]
     },
     "execution_count": 8,
     "metadata": {},
     "output_type": "execute_result"
    }
   ],
   "source": [
    "all_actions.head()"
   ]
  },
  {
   "cell_type": "markdown",
   "id": "2c236b6c",
   "metadata": {},
   "source": [
    "### Sample some actions"
   ]
  },
  {
   "cell_type": "code",
   "execution_count": 11,
   "id": "ece38412",
   "metadata": {},
   "outputs": [],
   "source": [
    "# Sample some actions\n",
    "filtered_actions = [\"c047\", \"c046\", \"c048\", \"c049\", \"c050\", \"c051\"]"
   ]
  },
  {
   "cell_type": "code",
   "execution_count": 15,
   "id": "465af622",
   "metadata": {},
   "outputs": [
    {
     "name": "stdout",
     "output_type": "stream",
     "text": [
      "Index(['TVEHJ'], dtype='object', name='video')\n"
     ]
    },
    {
     "data": {
      "application/vnd.microsoft.datawrangler.viewer.v0+json": {
       "columns": [
        {
         "name": "index",
         "rawType": "int64",
         "type": "integer"
        },
        {
         "name": "video",
         "rawType": "object",
         "type": "string"
        },
        {
         "name": "class",
         "rawType": "object",
         "type": "string"
        },
        {
         "name": "start",
         "rawType": "float64",
         "type": "float"
        },
        {
         "name": "end",
         "rawType": "float64",
         "type": "float"
        }
       ],
       "ref": "a053d159-a7b6-4711-b26d-602e89c52039",
       "rows": [
        [
         "5510",
         "TVEHJ",
         "c046",
         "16.2",
         "22.2"
        ],
        [
         "5511",
         "TVEHJ",
         "c059",
         "0.0",
         "24.9"
        ],
        [
         "5512",
         "TVEHJ",
         "c050",
         "0.0",
         "3.7"
        ],
        [
         "5513",
         "TVEHJ",
         "c154",
         "20.9",
         "26.4"
        ],
        [
         "5514",
         "TVEHJ",
         "c049",
         "18.5",
         "24.9"
        ]
       ],
       "shape": {
        "columns": 4,
        "rows": 5
       }
      },
      "text/html": [
       "<div>\n",
       "<style scoped>\n",
       "    .dataframe tbody tr th:only-of-type {\n",
       "        vertical-align: middle;\n",
       "    }\n",
       "\n",
       "    .dataframe tbody tr th {\n",
       "        vertical-align: top;\n",
       "    }\n",
       "\n",
       "    .dataframe thead th {\n",
       "        text-align: right;\n",
       "    }\n",
       "</style>\n",
       "<table border=\"1\" class=\"dataframe\">\n",
       "  <thead>\n",
       "    <tr style=\"text-align: right;\">\n",
       "      <th></th>\n",
       "      <th>video</th>\n",
       "      <th>class</th>\n",
       "      <th>start</th>\n",
       "      <th>end</th>\n",
       "    </tr>\n",
       "  </thead>\n",
       "  <tbody>\n",
       "    <tr>\n",
       "      <th>5510</th>\n",
       "      <td>TVEHJ</td>\n",
       "      <td>c046</td>\n",
       "      <td>16.2</td>\n",
       "      <td>22.2</td>\n",
       "    </tr>\n",
       "    <tr>\n",
       "      <th>5511</th>\n",
       "      <td>TVEHJ</td>\n",
       "      <td>c059</td>\n",
       "      <td>0.0</td>\n",
       "      <td>24.9</td>\n",
       "    </tr>\n",
       "    <tr>\n",
       "      <th>5512</th>\n",
       "      <td>TVEHJ</td>\n",
       "      <td>c050</td>\n",
       "      <td>0.0</td>\n",
       "      <td>3.7</td>\n",
       "    </tr>\n",
       "    <tr>\n",
       "      <th>5513</th>\n",
       "      <td>TVEHJ</td>\n",
       "      <td>c154</td>\n",
       "      <td>20.9</td>\n",
       "      <td>26.4</td>\n",
       "    </tr>\n",
       "    <tr>\n",
       "      <th>5514</th>\n",
       "      <td>TVEHJ</td>\n",
       "      <td>c049</td>\n",
       "      <td>18.5</td>\n",
       "      <td>24.9</td>\n",
       "    </tr>\n",
       "  </tbody>\n",
       "</table>\n",
       "</div>"
      ],
      "text/plain": [
       "      video class  start   end\n",
       "5510  TVEHJ  c046   16.2  22.2\n",
       "5511  TVEHJ  c059    0.0  24.9\n",
       "5512  TVEHJ  c050    0.0   3.7\n",
       "5513  TVEHJ  c154   20.9  26.4\n",
       "5514  TVEHJ  c049   18.5  24.9"
      ]
     },
     "execution_count": 15,
     "metadata": {},
     "output_type": "execute_result"
    }
   ],
   "source": [
    "# Step 1: Get all videos where every class is in filtered_actions\n",
    "valid_videos = (\n",
    "    all_actions\n",
    "    .groupby('video')['class']\n",
    "    .apply(lambda x: set(filtered_actions).issubset(set(x)))\n",
    ")\n",
    "\n",
    "# Step 2: Filter the DataFrame\n",
    "filtered = all_actions[\n",
    "    all_actions['video'].isin(valid_videos[valid_videos].index)\n",
    "]\n",
    "\n",
    "print(valid_videos[valid_videos].index)\n",
    "filtered.head()"
   ]
  },
  {
   "cell_type": "markdown",
   "id": "753dbd22",
   "metadata": {},
   "source": [
    "### Visualize actions intervals"
   ]
  },
  {
   "cell_type": "code",
   "execution_count": 9,
   "id": "72f74ae8",
   "metadata": {},
   "outputs": [],
   "source": [
    "def plot_actions_intervals(annots_df, vid):\n",
    "    # Get rows associated with vid\n",
    "    video = annots_df[annots_df[\"video\"] == vid]\n",
    "\n",
    "    # Calculate durations\n",
    "    # durations = [end - start for start, end in zip(video[\"start\"], video[\"end\"])]\n",
    "    durations = video[\"end\"] - video[\"start\"]\n",
    "\n",
    "    # Create a horizontal bar chart\n",
    "    fig, ax = plt.subplots(figsize=(10, 4))\n",
    "\n",
    "    # Plot each action as a horizontal bar\n",
    "    for i, (cls, start, duration) in enumerate(\n",
    "        zip(video[\"class\"], video[\"start\"], durations)\n",
    "    ):\n",
    "        ax.barh(i, duration, left=start, height=0.6, label=cls)\n",
    "        ax.text(\n",
    "            start + duration / 2,\n",
    "            i,\n",
    "            cls,\n",
    "            va=\"center\",\n",
    "            ha=\"center\",\n",
    "            color=\"white\",\n",
    "            fontsize=10,\n",
    "        )\n",
    "\n",
    "    # Formatting\n",
    "    ax.set_xlabel(\"Time (s)\")\n",
    "    ax.set_yticks(range(len(video[\"class\"])))\n",
    "    ax.set_yticklabels(video[\"class\"])\n",
    "    ax.set_title(f\"Action Class Intervals for Video {vid}\")\n",
    "    ax.grid(True, axis=\"x\", linestyle=\"--\", alpha=0.6)\n",
    "\n",
    "    plt.tight_layout()\n",
    "    plt.show()"
   ]
  },
  {
   "cell_type": "code",
   "execution_count": 16,
   "id": "89b10f20",
   "metadata": {},
   "outputs": [
    {
     "data": {
      "image/png": "[encoded data removed]",
      "text/plain": [
       "<Figure size 1000x400 with 1 Axes>"
      ]
     },
     "metadata": {},
     "output_type": "display_data"
    }
   ],
   "source": [
    "plot_actions_intervals(all_actions, 'TVEHJ')"
   ]
  }
 ],
 "metadata": {
  "kernelspec": {
   "display_name": "pytorch_env",
   "language": "python",
   "name": "python3"
  },
  "language_info": {
   "codemirror_mode": {
    "name": "ipython",
    "version": 3
   },
   "file_extension": ".py",
   "mimetype": "text/x-python",
   "name": "python",
   "nbconvert_exporter": "python",
   "pygments_lexer": "ipython3",
   "version": "3.11.11"
  }
 },
 "nbformat": 4,
 "nbformat_minor": 5
}
