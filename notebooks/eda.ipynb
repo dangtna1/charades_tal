{
 "cells": [
  {
   "cell_type": "code",
   "execution_count": 21,
   "id": "95992277",
   "metadata": {},
   "outputs": [],
   "source": [
    "import numpy as np\n",
    "import pandas as pd\n",
    "import matplotlib.pyplot as plt"
   ]
  },
  {
   "cell_type": "markdown",
   "id": "e112527c",
   "metadata": {},
   "source": [
    "# Load annotation file"
   ]
  },
  {
   "cell_type": "code",
   "execution_count": null,
   "id": "59265c6b",
   "metadata": {},
   "outputs": [
    {
     "name": "stdout",
     "output_type": "stream",
     "text": [
      "<class 'pandas.core.frame.DataFrame'>\n",
      "RangeIndex: 6167 entries, 0 to 6166\n",
      "Data columns (total 13 columns):\n",
      " #   Column          Non-Null Count  Dtype  \n",
      "---  ------          --------------  -----  \n",
      " 0   id              6167 non-null   object \n",
      " 1   subject         6167 non-null   object \n",
      " 2   scene           6167 non-null   object \n",
      " 3   quality         6147 non-null   float64\n",
      " 4   relevance       6113 non-null   float64\n",
      " 5   verified        6167 non-null   object \n",
      " 6   script          6167 non-null   object \n",
      " 7   objects         6165 non-null   object \n",
      " 8   descriptions    6167 non-null   object \n",
      " 9   actions         6158 non-null   object \n",
      " 10  length          6167 non-null   float64\n",
      " 11  egocentric      6167 non-null   object \n",
      " 12  charades_video  4934 non-null   object \n",
      "dtypes: float64(3), object(10)\n",
      "memory usage: 626.5+ KB\n"
     ]
    }
   ],
   "source": [
    "df = pd.read_csv(\"E:\\MSc Data Science\\Third term\\Research Project\\general\\charade\\CharadesEgo\\CharadesEgo_v1_train.csv\")\n",
    "df.info()"
   ]
  },
  {
   "cell_type": "code",
   "execution_count": 16,
   "id": "f96c1f9f",
   "metadata": {},
   "outputs": [
    {
     "data": {
      "application/vnd.microsoft.datawrangler.viewer.v0+json": {
       "columns": [
        {
         "name": "actions",
         "rawType": "object",
         "type": "string"
        },
        {
         "name": "count",
         "rawType": "int64",
         "type": "integer"
        }
       ],
       "ref": "5c7650cc-5e7e-462a-808f-b6b1f901aba9",
       "rows": [
        [
         "c011 0.00 30.75;c059 0.00 30.75",
         "2"
        ],
        [
         "c051 0.00 30.42;c047 0.00 30.42;c059 0.00 30.42",
         "2"
        ],
        [
         "c012 0.00 31.42;c013 0.00 31.42;c038 0.00 31.42",
         "2"
        ],
        [
         "c059 0.00 31.46;c132 0.00 31.46;c153 1.90 31.46",
         "2"
        ],
        [
         "c154 0.00 7.00;c070 0.00 7.00;c115 0.00 7.00;c098 0.00 7.00;c134 0.00 7.00",
         "2"
        ],
        [
         "c052 0.00 20.92;c011 0.00 20.92;c059 0.00 20.92;c124 0.00 20.92;c051 0.00 20.92;c047 0.00 20.92",
         "2"
        ],
        [
         "c154 0.00 4.04;c135 0.00 4.04;c016 0.00 4.04;c008 0.00 4.04;c015 0.00 4.04;c097 0.00 4.04",
         "2"
        ],
        [
         "c026 0.00 23.04;c096 0.00 23.04",
         "2"
        ],
        [
         "c093 0.00 28.79;c103 0.00 28.79;c060 0.00 28.79;c096 0.00 28.79",
         "2"
        ],
        [
         "c026 0.00 32.96;c032 0.00 32.96;c147 0.00 32.96",
         "2"
        ],
        [
         "c059 0.00 4.71;c149 0.00 4.71;c131 0.00 4.71;c132 0.00 4.71;c154 0.00 4.71;c015 0.00 4.71;c018 0.00 4.71",
         "2"
        ],
        [
         "c063 0.00 34.46;c015 0.00 34.46;c061 0.00 34.46;c118 0.00 34.46;c156 0.00 34.46",
         "2"
        ],
        [
         "c118 0.00 8.71;c107 0.00 8.71;c150 0.00 8.71",
         "2"
        ],
        [
         "c003 3.20 9.80;c118 18.50 25.60;c154 0.00 8.70;c110 23.90 30.58;c006 9.90 20.10;c059 20.00 28.20;c092 0.00 4.80;c106 16.50 30.58;c107 14.50 30.58;c033 0.00 17.80;c114 0.00 15.30;c151 18.80 25.10;c120 13.50 19.00;c003 12.80 18.10;c154 28.30 30.58;c110 14.50 20.40;c112 11.80 16.10;c092 20.60 30.58;c038 0.00 15.30;c106 21.30 25.60",
         "1"
        ],
        [
         "c107 16.50 22.04;c110 15.30 21.00;c109 23.10 22.04;c017 13.50 21.40;c015 0.00 16.60;c153 10.20 16.30;c059 0.00 22.04;c106 17.30 22.04;c011 0.00 22.04",
         "1"
        ],
        [
         "c032 0.00 18.30;c106 23.20 30.92;c059 0.00 21.40;c154 17.20 22.10;c107 20.80 30.92;c115 0.00 19.50;c070 7.80 30.92;c027 0.00 30.92;c030 1.40 30.92;c025 23.50 30.92;c109 0.00 22.00;c110 23.20 30.30;c028 14.70 21.50;c123 0.00 21.50;c026 0.00 18.40",
         "1"
        ],
        [
         "c083 0.00 21.04;c086 4.80 21.04;c008 0.00 21.04;c087 0.00 21.04;c088 0.00 21.04;c009 0.00 11.60;c097 7.30 21.04;c006 9.80 21.00;c084 2.70 11.90",
         "1"
        ],
        [
         "c057 16.20 36.75;c151 11.60 19.50;c056 27.60 35.10;c001 0.00 12.10;c003 1.90 12.10;c130 0.80 11.70;c152 0.00 16.20;c155 0.00 4.90;c006 2.80 7.30;c149 1.90 9.70",
         "1"
        ],
        [
         "c127 0.70 13.10;c030 10.40 15.60;c026 11.60 18.60;c098 0.00 14.10;c102 1.20 14.30;c099 8.60 13.70;c115 10.70 15.90",
         "1"
        ],
        [
         "c097 29.90 33.42;c107 16.00 23.40;c109 26.20 31.40;c017 12.60 17.30;c009 12.80 17.90;c110 0.00 26.40;c135 0.00 30.40;c016 0.00 16.60;c106 21.20 30.20;c154 26.50 33.00;c015 0.00 17.30;c118 16.20 30.40;c011 0.00 31.60;c110 13.70 21.40;c009 19.00 25.20;c108 17.10 23.90;c009 14.40 33.42;c156 9.80 33.42;c123 2.30 33.42;c108 27.20 33.42",
         "1"
        ],
        [
         "c127 0.00 31.04;c102 0.00 31.04;c005 0.00 26.50;c070 0.00 21.90;c099 1.30 20.80;c072 0.00 17.70;c137 0.00 9.90;c073 0.00 7.60;c098 0.00 7.70;c100 1.30 8.50",
         "1"
        ],
        [
         "c035 0.00 17.80;c011 25.80 34.25;c052 29.60 34.25;c014 30.10 34.25;c151 24.60 32.50;c073 0.00 6.30;c070 0.70 34.25;c072 14.10 19.00;c123 27.50 32.50;c154 0.00 31.70;c059 24.20 33.60;c151 19.40 26.20;c073 0.00 15.70;c070 4.00 10.60",
         "1"
        ],
        [
         "c097 0.00 2.70;c012 8.20 25.00;c156 4.70 9.80;c009 6.30 12.10;c068 6.70 12.60;c118 0.00 8.30;c069 0.00 7.40;c012 16.40 21.40;c004 7.50 20.70;c156 0.00 3.80;c009 12.60 19.40;c068 10.90 15.60;c067 0.00 8.60;c097 0.00 6.70;c061 0.00 8.60;c065 0.10 7.30;c119 2.60 8.40",
         "1"
        ],
        [
         "c141 1.00 17.90;c074 20.40 26.80;c035 16.90 22.10;c097 13.00 21.40;c070 18.00 24.00;c008 23.60 30.25;c033 23.60 29.40;c036 24.70 30.25;c073 21.60 28.10;c034 19.50 30.25;c001 20.30 30.25;c000 18.80 30.25;c126 21.50 26.80;c008 1.50 8.20;c033 17.50 23.40;c036 20.40 27.50;c073 16.60 22.50",
         "1"
        ],
        [
         "c058 4.40 9.40;c053 4.40 8.50;c015 6.40 11.10;c043 8.60 13.21;c096 6.50 11.50;c054 4.40 9.80;c097 0.00 3.20",
         "1"
        ],
        [
         "c137 11.70 33.42;c038 0.00 12.00;c091 0.00 14.40;c127 17.70 33.42",
         "1"
        ],
        [
         "c097 10.80 19.33;c011 0.00 14.10;c106 0.00 8.70;c109 3.40 9.20;c019 0.00 19.33;c059 0.00 14.30;c057 5.70 13.40;c141 0.00 19.33;c015 0.00 13.20;c149 1.10 9.10;c152 0.00 10.70;c008 0.00 10.80;c107 0.80 8.10;c154 9.90 15.00;c123 0.00 14.00",
         "1"
        ],
        [
         "c067 26.00 31.79;c036 22.20 26.70;c033 8.80 27.00;c093 8.20 27.10;c065 26.60 31.79;c089 6.30 12.50;c095 11.40 19.00;c154 26.00 31.79;c090 5.30 14.30;c035 9.00 26.80;c120 24.70 31.79;c038 9.60 28.10;c156 25.10 31.79;c118 25.40 31.79;c063 25.40 31.79;c152 25.50 31.30;c061 24.70 31.10;c092 3.30 10.00",
         "1"
        ],
        [
         "c130 4.00 9.40;c023 0.00 2.70;c020 0.00 8.10;c022 4.00 9.10;c097 0.00 6.60;c008 2.10 7.00;c006 3.80 9.42",
         "1"
        ],
        [
         "c072 0.00 26.40;c070 0.00 25.60;c135 0.00 30.38;c107 26.60 30.38;c106 29.80 30.38;c154 25.40 30.38;c110 26.60 30.38;c074 23.80 29.40;c132 0.00 27.40;c126 23.40 29.40;c001 32.60 30.38",
         "1"
        ],
        [
         "c129 20.80 27.20;c110 5.90 16.70;c107 12.00 22.80;c106 10.20 39.25;c009 26.70 31.90;c153 5.50 12.20;c129 13.50 26.60",
         "1"
        ],
        [
         "c063 1.90 8.79;c053 0.00 8.79;c118 3.70 8.79;c061 3.10 8.79",
         "1"
        ],
        [
         "c109 23.00 28.50;c009 23.00 28.50;c107 8.20 27.90;c110 7.60 13.40;c104 2.70 7.60;c070 0.10 29.50;c072 0.10 29.50;c118 9.20 28.20",
         "1"
        ],
        [
         "c002 5.40 24.10;c087 0.00 9.00;c017 4.80 18.30;c148 9.50 40.17;c016 1.00 18.50;c018 0.00 15.90;c015 5.00 16.90;c000 2.20 19.30",
         "1"
        ],
        [
         "c109 4.60 9.60;c152 5.10 10.20;c149 6.70 13.71;c156 0.00 4.30;c106 2.10 8.50;c062 0.00 3.90;c061 0.00 3.50;c110 1.10 9.20;c063 4.50 9.70;c044 4.40 9.30",
         "1"
        ],
        [
         "c153 0.00 3.10;c033 0.10 4.96;c036 5.50 4.96;c035 0.00 4.50;c153 0.80 4.96;c033 5.10 4.96;c036 5.00 4.96",
         "1"
        ],
        [
         "c149 11.70 32.08;c144 29.10 32.08;c094 22.70 32.08;c152 14.40 32.08;c015 28.40 32.08;c150 13.70 21.90;c096 15.20 22.70;c016 16.90 31.90;c006 18.70 32.08;c015 0.20 32.08;c150 0.00 5.70;c096 4.20 32.08",
         "1"
        ],
        [
         "c034 7.50 13.30;c081 0.00 11.40;c038 8.70 17.20;c006 17.50 22.50;c154 13.90 21.60;c023 0.00 5.00;c130 0.40 23.20;c062 0.00 23.10;c020 19.30 26.00;c037 20.40 25.70;c033 20.10 26.40;c082 0.00 19.00;c114 0.00 20.10;c112 16.40 21.70;c035 0.00 4.50;c113 0.00 21.50;c063 0.00 19.60;c021 0.00 8.20;c061 0.00 9.20;c022 15.50 20.40;c063 0.00 3.90;c021 0.00 26.46;c061 0.00 3.70;c022 0.00 4.50;c020 14.70 20.90;c037 9.90 20.50;c033 9.90 20.50;c125 0.00 20.40;c020 0.00 10.30;c037 0.00 6.90;c033 0.00 5.40",
         "1"
        ],
        [
         "c078 0.40 13.90;c154 12.00 19.50;c109 15.00 25.60;c077 9.80 16.90;c107 14.60 20.40;c118 22.40 27.30;c106 17.00 23.00;c076 1.60 13.30;c151 0.30 5.60;c011 1.50 15.90;c146 8.60 16.20;c119 21.70 34.58;c059 0.00 6.70;c121 20.90 34.58;c110 12.40 19.30;c120 21.60 34.58",
         "1"
        ],
        [
         "c065 13.80 28.10;c068 11.70 28.10;c119 15.50 28.10;c118 18.50 24.40;c156 19.30 23.90;c063 19.00 24.40;c067 17.80 25.10;c065 0.00 4.90;c068 1.10 6.20;c119 0.00 7.70",
         "1"
        ],
        [
         "c097 0.00 10.00;c126 13.20 21.50;c156 6.60 31.29;c076 0.00 20.30;c080 14.90 20.60;c152 14.10 18.60;c118 10.70 29.40;c061 5.70 23.90;c080 0.70 29.70;c152 3.80 27.00;c125 6.20 30.00",
         "1"
        ],
        [
         "c096 12.80 21.50;c094 13.50 17.80;c008 26.10 30.42;c097 27.00 30.42;c106 7.70 14.30;c141 25.80 30.42;c120 1.80 8.20;c108 10.30 14.60;c139 9.20 13.30;c107 9.00 17.20",
         "1"
        ],
        [
         "c114 0.00 18.50;c002 0.30 14.00;c001 3.60 18.10;c000 1.90 16.80;c003 0.00 8.60;c071 2.80 9.40;c155 16.50 23.29;c112 13.60 19.10;c113 0.00 4.60",
         "1"
        ],
        [
         "c088 0.00 27.70;c020 0.00 30.58;c086 0.00 15.30;c001 0.00 14.10;c084 0.00 30.58;c123 0.00 30.58;c021 11.30 19.40;c083 0.00 30.58",
         "1"
        ],
        [
         "c104 7.90 12.90;c151 14.30 21.00;c132 13.90 28.38;c105 0.00 11.40;c123 15.20 20.50;c103 0.00 17.60;c135 14.60 19.60",
         "1"
        ],
        [
         "c015 20.70 32.17;c096 15.50 32.17;c107 0.00 23.10;c152 13.30 22.10;c106 3.00 17.30;c109 16.90 22.80;c097 0.00 4.40;c141 0.00 5.90;c144 15.00 20.20;c087 23.90 32.17;c018 21.20 32.17;c017 19.60 32.17;c008 0.00 6.80",
         "1"
        ],
        [
         "c062 5.70 22.10;c142 12.00 19.70;c042 5.20 14.20;c061 7.20 17.30;c154 8.70 19.30;c143 11.50 21.20;c041 10.80 19.90;c044 15.10 30.00;c040 15.70 30.00;c063 15.00 30.00;c122 0.00 13.60;c043 19.00 25.00;c146 16.20 21.10",
         "1"
        ],
        [
         "c051 0.00 25.10;c047 20.70 25.90;c018 23.20 29.80;c010 0.00 31.04;c015 24.40 31.04;c011 0.00 31.04;c052 0.00 26.70;c059 0.00 31.04;c046 20.40 26.90;c011 1.60 7.70;c052 4.20 9.80;c059 7.50 11.90;c046 7.30 14.30",
         "1"
        ],
        [
         "c021 13.00 20.40;c020 11.90 23.71;c062 18.40 23.71;c023 11.60 23.10;c143 4.50 12.00;c154 0.00 2.70;c142 20.20 23.71;c063 6.00 16.40;c061 11.90 20.40",
         "1"
        ],
        [
         "c015 0.00 20.08;c016 0.00 20.08;c152 8.20 20.08;c087 0.00 20.08;c154 0.00 20.08",
         "1"
        ]
       ],
       "shape": {
        "columns": 1,
        "rows": 6145
       }
      },
      "text/plain": [
       "actions\n",
       "c011 0.00 30.75;c059 0.00 30.75                                                                                                                                                                                                                                                                                                                                                2\n",
       "c051 0.00 30.42;c047 0.00 30.42;c059 0.00 30.42                                                                                                                                                                                                                                                                                                                                2\n",
       "c012 0.00 31.42;c013 0.00 31.42;c038 0.00 31.42                                                                                                                                                                                                                                                                                                                                2\n",
       "c059 0.00 31.46;c132 0.00 31.46;c153 1.90 31.46                                                                                                                                                                                                                                                                                                                                2\n",
       "c154 0.00 7.00;c070 0.00 7.00;c115 0.00 7.00;c098 0.00 7.00;c134 0.00 7.00                                                                                                                                                                                                                                                                                                     2\n",
       "                                                                                                                                                                                                                                                                                                                                                                              ..\n",
       "c151 5.10 12.20;c087 19.00 28.90;c073 0.00 5.50;c124 10.00 30.04;c150 2.60 30.04;c070 6.00 30.04;c016 14.20 30.04;c071 8.00 30.04;c070 1.00 8.20;c015 10.40 28.70;c016 21.50 29.30;c071 3.90 9.20                                                                                                                                                                              1\n",
       "c071 27.20 30.08;c073 1.50 8.60;c153 20.90 29.70;c070 2.40 30.08;c000 4.00 30.08;c004 0.00 30.08;c081 0.00 7.00;c037 0.00 30.08;c034 3.70 30.08;c001 2.70 30.08;c033 1.60 30.08;c008 0.00 7.70;c006 0.00 7.10;c075 2.10 30.08;c113 0.00 5.00                                                                                                                                   1\n",
       "c151 21.10 26.40;c032 22.50 28.79;c026 20.40 28.79;c097 10.30 16.00;c062 16.90 21.60;c012 1.90 12.20;c150 9.10 15.60;c013 1.80 10.80;c154 0.00 28.79;c108 1.80 25.70;c009 0.00 28.40;c152 0.00 24.40;c028 15.80 28.79;c110 0.90 28.79;c097 11.60 19.30;c027 21.80 28.79;c030 19.50 24.10;c059 21.40 26.70;c062 8.50 18.90;c012 14.90 21.80;c150 12.10 19.60;c013 8.50 18.00    1\n",
       "c156 1.90 7.20;c065 1.70 7.00;c068 17.10 23.80;c067 1.40 7.00;c081 18.00 24.10;c152 0.00 3.20;c118 0.00 24.80;c154 0.00 15.90;c088 0.00 14.30;c061 0.00 19.70;c081 12.10 24.00;c152 18.00 27.70;c097 27.60 29.67                                                                                                                                                               1\n",
       "c156 3.90 12.00;c061 8.20 12.50;c106 9.90 18.40;c067 12.80 17.90;c008 12.20 18.70;c065 11.20 18.10;c104 11.70 17.60;c006 12.50 17.90;c156 3.90 31.25;c107 1.00 31.25;c061 1.30 29.70;c106 10.90 31.25                                                                                                                                                                          1\n",
       "Name: count, Length: 6145, dtype: int64"
      ]
     },
     "execution_count": 16,
     "metadata": {},
     "output_type": "execute_result"
    }
   ],
   "source": [
    "df['actions'].value_counts().sort_values(ascending=False)"
   ]
  },
  {
   "cell_type": "markdown",
   "id": "9d1b0363",
   "metadata": {},
   "source": [
    "We should expect each value of `actions` are in two rows (one for egocentric view and one for exocentric view) "
   ]
  },
  {
   "cell_type": "markdown",
   "id": "92708a60",
   "metadata": {},
   "source": [
    "# Transform the annotation file"
   ]
  },
  {
   "cell_type": "code",
   "execution_count": 17,
   "id": "7a5a3577",
   "metadata": {},
   "outputs": [],
   "source": [
    "rows = []\n",
    "for _, r in df.iterrows():\n",
    "  vid = r['id']\n",
    "  actions = r['actions']\n",
    "  if (isinstance(actions, str)):\n",
    "    for trip in actions.split(';'):\n",
    "      cls, st, en = trip.split()\n",
    "      rows.append({'video': vid, 'class': cls, 'start': float(st), 'end': float(en)})\n",
    "\n",
    "all_actions = pd.DataFrame(rows)"
   ]
  },
  {
   "cell_type": "code",
   "execution_count": 18,
   "id": "54dfb5d5",
   "metadata": {},
   "outputs": [
    {
     "name": "stdout",
     "output_type": "stream",
     "text": [
      "<class 'pandas.core.frame.DataFrame'>\n",
      "RangeIndex: 68536 entries, 0 to 68535\n",
      "Data columns (total 4 columns):\n",
      " #   Column  Non-Null Count  Dtype  \n",
      "---  ------  --------------  -----  \n",
      " 0   video   68536 non-null  object \n",
      " 1   class   68536 non-null  object \n",
      " 2   start   68536 non-null  float64\n",
      " 3   end     68536 non-null  float64\n",
      "dtypes: float64(2), object(2)\n",
      "memory usage: 2.1+ MB\n"
     ]
    }
   ],
   "source": [
    "all_actions.info()"
   ]
  },
  {
   "cell_type": "code",
   "execution_count": 19,
   "id": "61767c29",
   "metadata": {},
   "outputs": [
    {
     "name": "stdout",
     "output_type": "stream",
     "text": [
      "<class 'pandas.core.frame.DataFrame'>\n",
      "RangeIndex: 68536 entries, 0 to 68535\n",
      "Data columns (total 4 columns):\n",
      " #   Column  Non-Null Count  Dtype  \n",
      "---  ------  --------------  -----  \n",
      " 0   video   68536 non-null  object \n",
      " 1   class   68536 non-null  object \n",
      " 2   start   68536 non-null  float64\n",
      " 3   end     68536 non-null  float64\n",
      "dtypes: float64(2), object(2)\n",
      "memory usage: 2.1+ MB\n"
     ]
    }
   ],
   "source": [
    "all_actions.info()"
   ]
  },
  {
   "cell_type": "code",
   "execution_count": 20,
   "id": "52f8c642",
   "metadata": {},
   "outputs": [
    {
     "data": {
      "application/vnd.microsoft.datawrangler.viewer.v0+json": {
       "columns": [
        {
         "name": "index",
         "rawType": "int64",
         "type": "integer"
        },
        {
         "name": "video",
         "rawType": "object",
         "type": "string"
        },
        {
         "name": "class",
         "rawType": "object",
         "type": "string"
        },
        {
         "name": "start",
         "rawType": "float64",
         "type": "float"
        },
        {
         "name": "end",
         "rawType": "float64",
         "type": "float"
        }
       ],
       "ref": "2fd1739e-32b1-4aaa-a0c8-db29f73c2210",
       "rows": [
        [
         "0",
         "D3TR8EGO",
         "c156",
         "3.9",
         "12.0"
        ],
        [
         "1",
         "D3TR8EGO",
         "c061",
         "8.2",
         "12.5"
        ],
        [
         "2",
         "D3TR8EGO",
         "c106",
         "9.9",
         "18.4"
        ],
        [
         "3",
         "D3TR8EGO",
         "c067",
         "12.8",
         "17.9"
        ],
        [
         "4",
         "D3TR8EGO",
         "c008",
         "12.2",
         "18.7"
        ]
       ],
       "shape": {
        "columns": 4,
        "rows": 5
       }
      },
      "text/html": [
       "<div>\n",
       "<style scoped>\n",
       "    .dataframe tbody tr th:only-of-type {\n",
       "        vertical-align: middle;\n",
       "    }\n",
       "\n",
       "    .dataframe tbody tr th {\n",
       "        vertical-align: top;\n",
       "    }\n",
       "\n",
       "    .dataframe thead th {\n",
       "        text-align: right;\n",
       "    }\n",
       "</style>\n",
       "<table border=\"1\" class=\"dataframe\">\n",
       "  <thead>\n",
       "    <tr style=\"text-align: right;\">\n",
       "      <th></th>\n",
       "      <th>video</th>\n",
       "      <th>class</th>\n",
       "      <th>start</th>\n",
       "      <th>end</th>\n",
       "    </tr>\n",
       "  </thead>\n",
       "  <tbody>\n",
       "    <tr>\n",
       "      <th>0</th>\n",
       "      <td>D3TR8EGO</td>\n",
       "      <td>c156</td>\n",
       "      <td>3.9</td>\n",
       "      <td>12.0</td>\n",
       "    </tr>\n",
       "    <tr>\n",
       "      <th>1</th>\n",
       "      <td>D3TR8EGO</td>\n",
       "      <td>c061</td>\n",
       "      <td>8.2</td>\n",
       "      <td>12.5</td>\n",
       "    </tr>\n",
       "    <tr>\n",
       "      <th>2</th>\n",
       "      <td>D3TR8EGO</td>\n",
       "      <td>c106</td>\n",
       "      <td>9.9</td>\n",
       "      <td>18.4</td>\n",
       "    </tr>\n",
       "    <tr>\n",
       "      <th>3</th>\n",
       "      <td>D3TR8EGO</td>\n",
       "      <td>c067</td>\n",
       "      <td>12.8</td>\n",
       "      <td>17.9</td>\n",
       "    </tr>\n",
       "    <tr>\n",
       "      <th>4</th>\n",
       "      <td>D3TR8EGO</td>\n",
       "      <td>c008</td>\n",
       "      <td>12.2</td>\n",
       "      <td>18.7</td>\n",
       "    </tr>\n",
       "  </tbody>\n",
       "</table>\n",
       "</div>"
      ],
      "text/plain": [
       "      video class  start   end\n",
       "0  D3TR8EGO  c156    3.9  12.0\n",
       "1  D3TR8EGO  c061    8.2  12.5\n",
       "2  D3TR8EGO  c106    9.9  18.4\n",
       "3  D3TR8EGO  c067   12.8  17.9\n",
       "4  D3TR8EGO  c008   12.2  18.7"
      ]
     },
     "execution_count": 20,
     "metadata": {},
     "output_type": "execute_result"
    }
   ],
   "source": [
    "all_actions.head()"
   ]
  },
  {
   "cell_type": "markdown",
   "id": "753dbd22",
   "metadata": {},
   "source": [
    "### Visualize actions intervals"
   ]
  },
  {
   "cell_type": "code",
   "execution_count": 22,
   "id": "72f74ae8",
   "metadata": {},
   "outputs": [],
   "source": [
    "def plot_actions_intervals(annots_df, vid):\n",
    "    # Get rows associated with vid\n",
    "    video = annots_df[annots_df[\"video\"] == vid]\n",
    "\n",
    "    # Calculate durations\n",
    "    # durations = [end - start for start, end in zip(video[\"start\"], video[\"end\"])]\n",
    "    durations = video[\"end\"] - video[\"start\"]\n",
    "\n",
    "    # Create a horizontal bar chart\n",
    "    fig, ax = plt.subplots(figsize=(10, 4))\n",
    "\n",
    "    # Plot each action as a horizontal bar\n",
    "    for i, (cls, start, duration) in enumerate(\n",
    "        zip(video[\"class\"], video[\"start\"], durations)\n",
    "    ):\n",
    "        ax.barh(i, duration, left=start, height=0.6, label=cls)\n",
    "        ax.text(\n",
    "            start + duration / 2,\n",
    "            i,\n",
    "            cls,\n",
    "            va=\"center\",\n",
    "            ha=\"center\",\n",
    "            color=\"white\",\n",
    "            fontsize=10,\n",
    "        )\n",
    "\n",
    "    # Formatting\n",
    "    ax.set_xlabel(\"Time (s)\")\n",
    "    ax.set_yticks(range(len(video[\"class\"])))\n",
    "    ax.set_yticklabels(video[\"class\"])\n",
    "    ax.set_title(f\"Action Class Intervals for Video {vid}\")\n",
    "    ax.grid(True, axis=\"x\", linestyle=\"--\", alpha=0.6)\n",
    "\n",
    "    plt.tight_layout()\n",
    "    plt.show()"
   ]
  },
  {
   "cell_type": "code",
   "execution_count": 23,
   "id": "89b10f20",
   "metadata": {},
   "outputs": [
    {
     "data": {
      "image/png": "[encoded data removed]",
      "text/plain": [
       "<Figure size 1000x400 with 1 Axes>"
      ]
     },
     "metadata": {},
     "output_type": "display_data"
    }
   ],
   "source": [
    "plot_actions_intervals(all_actions, 'GCQDHEGO')"
   ]
  }
 ],
 "metadata": {
  "kernelspec": {
   "display_name": "pytorch_env",
   "language": "python",
   "name": "python3"
  },
  "language_info": {
   "codemirror_mode": {
    "name": "ipython",
    "version": 3
   },
   "file_extension": ".py",
   "mimetype": "text/x-python",
   "name": "python",
   "nbconvert_exporter": "python",
   "pygments_lexer": "ipython3",
   "version": "3.11.11"
  }
 },
 "nbformat": 4,
 "nbformat_minor": 5
}
